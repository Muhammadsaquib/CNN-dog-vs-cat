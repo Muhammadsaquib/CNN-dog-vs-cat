{
 "cells": [
  {
   "cell_type": "code",
   "execution_count": 7,
   "metadata": {},
   "outputs": [],
   "source": [
    "import cv2\n",
    "import tensorflow as tf\n",
    "import os\n",
    "import matplotlib.pyplot as plt\n",
    "import tqdm\n"
   ]
  },
  {
   "cell_type": "code",
   "execution_count": 8,
   "metadata": {
    "scrolled": true
   },
   "outputs": [
    {
     "name": "stdout",
     "output_type": "stream",
     "text": [
      "[[167 167 168 ... 204 203 202]\n",
      " [167 167 168 ... 204 203 203]\n",
      " [167 167 168 ... 205 204 203]\n",
      " ...\n",
      " [124 124 124 ...   2   2   2]\n",
      " [123 123 123 ...   1   1   1]\n",
      " [122 122 123 ...   1   1   1]]\n"
     ]
    }
   ],
   "source": [
    "DATADIR = r\"C:\\Users\\tahas\\OneDrive\\Desktop\\Pro\\kagglecatsanddogs_3367a\\PetImages\"\n",
    "CATA = [\"Cat\",\"Dog\"]\n",
    "\n",
    "\n",
    "for cata in CATA:\n",
    "    path = os.path.join(DATADIR,cata) # Join two paths \n",
    "    for img in os.listdir(path): # to counting of imgs in the folder\n",
    "        img_array = cv2.imread(os.path.join(path,img), cv2.IMREAD_GRAYSCALE) #convert the img into array.\n",
    "        print(img_array)\n",
    "        #plt.imshow(img_array,cmap = \"gray\") # \n",
    "        #plt.show()\n",
    "        break\n",
    "    break     "
   ]
  },
  {
   "cell_type": "markdown",
   "metadata": {},
   "source": [
    "#### We have manypicture of different sizes to we are norlimilizing every img in same size for better learning"
   ]
  },
  {
   "cell_type": "code",
   "execution_count": 9,
   "metadata": {},
   "outputs": [
    {
     "data": {
      "image/png": "[encoded data removed]",
      "text/plain": [
       "<Figure size 432x288 with 1 Axes>"
      ]
     },
     "metadata": {
      "needs_background": "light"
     },
     "output_type": "display_data"
    }
   ],
   "source": [
    "img_size = 60\n",
    "neu=cv2.resize(img_array,(img_size , img_size))\n",
    "plt.imshow(neu, cmap = \"gray\")\n",
    "plt.show()"
   ]
  },
  {
   "cell_type": "markdown",
   "metadata": {},
   "source": [
    "### FROM here preparing our training data set"
   ]
  },
  {
   "cell_type": "code",
   "execution_count": 10,
   "metadata": {},
   "outputs": [],
   "source": [
    "training_data = []\n",
    "def create_training_data():\n",
    "    for cata in CATA:\n",
    "        path = os.path.join(DATADIR,cata)  # create path to dogs and cats\n",
    "        class_names = CATA.index(cata)    # get the classification  (0 or a 1). 0=dog 1=cat\n",
    "        for img in os.listdir(path):\n",
    "            try:\n",
    "                img_array = cv2.imread(os.path.join(path,img), cv2.IMREAD_GRAYSCALE) # Converting img into array\n",
    "                neu_array=cv2.resize(img_array,(img_size , img_size))\n",
    "                plt.imshow(neuarray,cmap='gray')\n",
    "                training_data.append([neu_array,class_names])\n",
    "            except Exception as e:\n",
    "                pass\n",
    "create_training_data()"
   ]
  },
  {
   "cell_type": "code",
   "execution_count": 15,
   "metadata": {},
   "outputs": [
    {
     "name": "stdout",
     "output_type": "stream",
     "text": [
      "24946\n"
     ]
    }
   ],
   "source": [
    "print(len(training_data))"
   ]
  },
  {
   "cell_type": "markdown",
   "metadata": {},
   "source": [
    "#### shuffling the training data set for good learning"
   ]
  },
  {
   "cell_type": "code",
   "execution_count": null,
   "metadata": {},
   "outputs": [],
   "source": [
    "import random\n",
    "random.shuffle(training_data)"
   ]
  },
  {
   "cell_type": "markdown",
   "metadata": {},
   "source": [
    "#### spliting of train and test data set."
   ]
  },
  {
   "cell_type": "code",
   "execution_count": null,
   "metadata": {},
   "outputs": [],
   "source": [
    "X =[]\n",
    "y =[]"
   ]
  },
  {
   "cell_type": "code",
   "execution_count": null,
   "metadata": {},
   "outputs": [],
   "source": [
    "import numpy as np\n",
    "for features,label in training_data:\n",
    "    X.append(features)\n",
    "    y.append(label) \n",
    "# Here in below line in reshape the first \"-1\" catch first column of X then rehape it a/c to img_size you have given,\n",
    "# and than the third aurgument 1 its because we dealing with gray scale img.\n",
    "X.shape\n",
    "X = np.array(X).reshape(-1,img_size,img_size,1) \n",
    "y = np.array(y)"
   ]
  },
  {
   "cell_type": "markdown",
   "metadata": {},
   "source": [
    "#### Saving the model"
   ]
  },
  {
   "cell_type": "code",
   "execution_count": null,
   "metadata": {},
   "outputs": [],
   "source": [
    "import pickle\n",
    "\n",
    "pickle_out = open(\"X.pickle\",\"wb\")\n",
    "pickle.dump(X, pickle_out)\n",
    "pickle_out.close()\n",
    "\n",
    "pickle_out = open(\"y.pickle\",\"wb\")\n",
    "pickle.dump(y, pickle_out)\n",
    "pickle_out.close()"
   ]
  }
 ],
 "metadata": {
  "kernelspec": {
   "display_name": "gputest",
   "language": "python",
   "name": "gputest"
  },
  "language_info": {
   "codemirror_mode": {
    "name": "ipython",
    "version": 3
   },
   "file_extension": ".py",
   "mimetype": "text/x-python",
   "name": "python",
   "nbconvert_exporter": "python",
   "pygments_lexer": "ipython3",
   "version": "3.7.6"
  }
 },
 "nbformat": 4,
 "nbformat_minor": 4
}
