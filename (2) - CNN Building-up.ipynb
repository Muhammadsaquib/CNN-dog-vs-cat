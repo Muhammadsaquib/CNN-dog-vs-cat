{
 "cells": [
  {
   "cell_type": "code",
   "execution_count": 4,
   "metadata": {},
   "outputs": [],
   "source": [
    "import tensorflow as tf\n",
    "from tensorflow.keras.models import Sequential\n",
    "from tensorflow.keras.layers import Dense,Dropout,Activation, Flatten,Conv2D,MaxPooling2D\n",
    "import pickle"
   ]
  },
  {
   "cell_type": "markdown",
   "metadata": {},
   "source": [
    "#### Uploading the model"
   ]
  },
  {
   "cell_type": "code",
   "execution_count": 5,
   "metadata": {},
   "outputs": [],
   "source": [
    "X= pickle.load(open(\"X.pickle\", \"rb\"))\n",
    "y = pickle.load(open(\"y.pickle\",\"rb\"))"
   ]
  },
  {
   "cell_type": "markdown",
   "metadata": {},
   "source": [
    "#### making layers and compiling it"
   ]
  },
  {
   "cell_type": "code",
   "execution_count": 6,
   "metadata": {},
   "outputs": [],
   "source": [
    "from tensorflow.keras.callbacks import TensorBoard\n",
    "import time\n",
    "NAME =\"Cats-vs-dogs-64x2-CNN time\"\n",
    "\n",
    "\n",
    "#tensorboard = TensorBoard(log_dir=\"logs/{}\".TensorBoard(log_dir=f\"logs\\\\{Name}\"))\n",
    "#tensorboard =TensorBoard(log_dir=f\"logs\\{NAME}\")\n",
    "tensorboard = TensorBoard(log_dir=\"logs//{}\".format(NAME))\n",
    "\n",
    "X =X/255\n",
    "\n",
    "model = Sequential()\n",
    "\n",
    "\n",
    "model.add(Conv2D(64, (6,6) , input_shape = X.shape[1:]))\n",
    "model.add(Activation('relu'))          \n",
    "model.add(MaxPooling2D(pool_size=(5,5)))\n",
    "          \n",
    "model.add(Conv2D(64, (6,6)))\n",
    "model.add(Activation('relu'))\n",
    "model.add(MaxPooling2D(pool_size=(5,5)))\n",
    "          \n",
    "model.add(Flatten())\n",
    "model.add(Dense(64))\n",
    "model.add(Activation('relu'))\n",
    "\n",
    "          \n",
    "model.add(Dense(1))\n",
    "model.add(Activation(\"sigmoid\"))\n",
    "    \n",
    "model.compile(loss = \"binary_crossentropy\",\n",
    "             optimizer =\"adam\",\n",
    "              metrics = [\"accuracy\"])"
   ]
  },
  {
   "cell_type": "code",
   "execution_count": 7,
   "metadata": {
    "scrolled": true
   },
   "outputs": [
    {
     "name": "stdout",
     "output_type": "stream",
     "text": [
      "Train on 22451 samples, validate on 2495 samples\n",
      "Epoch 1/10\n",
      "   32/22451 [..............................] - ETA: 1:49:10 - loss: 0.6920 - accuracy: 0.4688WARNING:tensorflow:Method (on_train_batch_end) is slow compared to the batch update (0.494980). Check your callbacks.\n",
      "   64/22451 [..............................] - ETA: 1:00:33 - loss: 0.6932 - accuracy: 0.4844WARNING:tensorflow:Method (on_train_batch_end) is slow compared to the batch update (0.269721). Check your callbacks.\n",
      "   96/22451 [..............................] - ETA: 40:49 - loss: 0.6942 - accuracy: 0.4792  WARNING:tensorflow:Method (on_train_batch_end) is slow compared to the batch update (0.134860). Check your callbacks.\n",
      "22451/22451 [==============================] - 106s 5ms/sample - loss: 0.6420 - accuracy: 0.6181 - val_loss: 0.5700 - val_accuracy: 0.7078\n",
      "Epoch 2/10\n",
      "22451/22451 [==============================] - 90s 4ms/sample - loss: 0.5414 - accuracy: 0.7249 - val_loss: 0.5539 - val_accuracy: 0.7010\n",
      "Epoch 3/10\n",
      "22451/22451 [==============================] - 82s 4ms/sample - loss: 0.4718 - accuracy: 0.7770 - val_loss: 0.4834 - val_accuracy: 0.7647\n",
      "Epoch 4/10\n",
      "22451/22451 [==============================] - 84s 4ms/sample - loss: 0.4201 - accuracy: 0.8056 - val_loss: 0.4653 - val_accuracy: 0.7780\n",
      "Epoch 5/10\n",
      "22451/22451 [==============================] - 84s 4ms/sample - loss: 0.3769 - accuracy: 0.8275 - val_loss: 0.4590 - val_accuracy: 0.7760\n",
      "Epoch 6/10\n",
      "22451/22451 [==============================] - 82s 4ms/sample - loss: 0.3335 - accuracy: 0.8527 - val_loss: 0.4611 - val_accuracy: 0.7896\n",
      "Epoch 7/10\n",
      "22451/22451 [==============================] - 85s 4ms/sample - loss: 0.2900 - accuracy: 0.8764 - val_loss: 0.4697 - val_accuracy: 0.8024\n",
      "Epoch 8/10\n",
      "22451/22451 [==============================] - 85s 4ms/sample - loss: 0.2565 - accuracy: 0.8911 - val_loss: 0.4842 - val_accuracy: 0.8096\n",
      "Epoch 9/10\n",
      "22451/22451 [==============================] - 91s 4ms/sample - loss: 0.2145 - accuracy: 0.9118 - val_loss: 0.5220 - val_accuracy: 0.8108\n",
      "Epoch 10/10\n",
      "22451/22451 [==============================] - 85s 4ms/sample - loss: 0.1828 - accuracy: 0.9258 - val_loss: 0.7639 - val_accuracy: 0.7483\n"
     ]
    },
    {
     "data": {
      "text/plain": [
       "<tensorflow.python.keras.callbacks.History at 0x2612791bb88>"
      ]
     },
     "execution_count": 7,
     "metadata": {},
     "output_type": "execute_result"
    }
   ],
   "source": [
    "model.fit(X, y ,batch_size = 32, validation_split = 0.1,epochs =10,callbacks=[tensorboard])"
   ]
  },
  {
   "cell_type": "code",
   "execution_count": 8,
   "metadata": {},
   "outputs": [
    {
     "name": "stdout",
     "output_type": "stream",
     "text": [
      "WARNING:tensorflow:From C:\\Users\\tahas\\anaconda3\\envs\\gputest\\lib\\site-packages\\tensorflow_core\\python\\ops\\resource_variable_ops.py:1786: calling BaseResourceVariable.__init__ (from tensorflow.python.ops.resource_variable_ops) with constraint is deprecated and will be removed in a future version.\n",
      "Instructions for updating:\n",
      "If using Keras pass *_constraint arguments to layers.\n",
      "INFO:tensorflow:Assets written to: Cats-vs-dogs-64x2-CNN time\\assets\n"
     ]
    }
   ],
   "source": [
    "model.save('Cats-vs-dogs-64x2-CNN time')"
   ]
  },
  {
   "cell_type": "code",
   "execution_count": null,
   "metadata": {},
   "outputs": [],
   "source": []
  }
 ],
 "metadata": {
  "kernelspec": {
   "display_name": "gputest",
   "language": "python",
   "name": "gputest"
  },
  "language_info": {
   "codemirror_mode": {
    "name": "ipython",
    "version": 3
   },
   "file_extension": ".py",
   "mimetype": "text/x-python",
   "name": "python",
   "nbconvert_exporter": "python",
   "pygments_lexer": "ipython3",
   "version": "3.7.6"
  }
 },
 "nbformat": 4,
 "nbformat_minor": 4
}
